{
 "cells": [
  {
   "cell_type": "markdown",
   "id": "d0909204-b097-4804-a3ae-a6c500bf44a2",
   "metadata": {},
   "source": [
    "# Assignment: Intro to Python\n",
    "\n",
    "## Instructions\n",
    "\n",
    "This is the template file for the assignment of Module 4 called \"Intro to Python.\" Please carefully follow the instructions below.\n",
    "\n",
    "1. Rename this file by filling out your surname and first name in the file name. For example, if your surname is Ilagan and if your first name is Joben, then rename the file to ILAGAN-JOBEN-introToPython.ipynb.\n",
    "2. Fill out the markdown cell just above `Problem 1` with your student details as indicated.  \n",
    "3. To submit this file, first, upload your file to your GitHub repository and, second, submit your repository link to the assignment on Canvas.\n"
   ]
  },
  {
   "cell_type": "markdown",
   "id": "b23ee3e7-b7cf-4308-9039-f964ece290ae",
   "metadata": {
    "jp-MarkdownHeadingCollapsed": true,
    "tags": []
   },
   "source": [
    "## Student Details\n",
    "\n",
    "ID Number: 216466 \n",
    "Surname:  Yu\n",
    "Year and Course:  2 BS ITE"
   ]
  },
  {
   "cell_type": "markdown",
   "id": "65851df5-b5ac-4b96-8eaf-a8642ad1ef23",
   "metadata": {
    "tags": []
   },
   "source": [
    "## Problem 1 (5 points)\n",
    "\n",
    "This is the only problem in this assignment.  \n",
    "\n",
    "Overall prompt:  \n",
    "**Write a program that prompts the user to input three positive integers and outputs the average of those three positive integers.**  \n",
    "\n",
    "The program must follow these specifications:  \n",
    "1. Accept the user's input numbers one at a time. Use this format:  \n",
    "`Enter first number: {firstnumber}`  \n",
    "`Enter second number: {secondnumber}`  \n",
    "`Enter third number: {thirdnumber}`  \n",
    "2. The output should display using this format:  \n",
    "`The average is {average}.`  \n",
    "3. The program must, at some point, call a function called `three_number_average` that accepts three arguments and returns the average of those three arguments.  \n",
    "\n",
    "### Sample input and output\n",
    "\n",
    "Sample Input:  \n",
    "`Enter first number: 1`  \n",
    "`Enter second number: 2`  \n",
    "`Enter third number: 3`  \n",
    "Sample Output:  \n",
    "`The average is 2.0`  \n",
    "\n",
    "Sample Input:  \n",
    "`Enter first number: 1`  \n",
    "`Enter second number: 1`  \n",
    "`Enter third number: 1`  \n",
    "Sample Output:  \n",
    "`The average is 1.0`  \n",
    "\n",
    "Sample Input:\n",
    "`Enter first number: 2`  \n",
    "`Enter second number: 4`  \n",
    "`Enter third number: 6`  \n",
    "Sample Output:  \n",
    "`The average is 4.0`  "
   ]
  },
  {
   "cell_type": "code",
   "execution_count": 5,
   "id": "10243e03-a960-4dcd-8be1-4946fbfe84cf",
   "metadata": {},
   "outputs": [
    {
     "name": "stdin",
     "output_type": "stream",
     "text": [
      "Enter first number:  2\n",
      "Enter second number:  4\n",
      "Enter third number:  6\n"
     ]
    },
    {
     "name": "stdout",
     "output_type": "stream",
     "text": [
      "The average is 4.0\n"
     ]
    }
   ],
   "source": [
    "def three_number_average():\n",
    "    n1 = int(input(\"Enter first number: \"))\n",
    "    n2 = int(input(\"Enter second number: \"))\n",
    "    n3 = int(input(\"Enter third number: \"))\n",
    "    print(f\"The average is {(n1+n2+n3)/3}\")\n",
    "\n",
    "three_number_average()"
   ]
  },
  {
   "cell_type": "code",
   "execution_count": null,
   "id": "b409db89-ebd0-4ea2-aa4e-bacc447cd2bc",
   "metadata": {},
   "outputs": [],
   "source": []
  }
 ],
 "metadata": {
  "kernelspec": {
   "display_name": "Python 3 (ipykernel)",
   "language": "python",
   "name": "python3"
  },
  "language_info": {
   "codemirror_mode": {
    "name": "ipython",
    "version": 3
   },
   "file_extension": ".py",
   "mimetype": "text/x-python",
   "name": "python",
   "nbconvert_exporter": "python",
   "pygments_lexer": "ipython3",
   "version": "3.9.12"
  }
 },
 "nbformat": 4,
 "nbformat_minor": 5
}
